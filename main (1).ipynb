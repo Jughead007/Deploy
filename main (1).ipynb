{
 "cells": [
  {
   "cell_type": "code",
   "execution_count": null,
   "id": "9d589302",
   "metadata": {},
   "outputs": [],
   "source": [
    "import streamlit as st\n",
    "import pandas as pd\n",
    "import requests\n",
    "from io import BytesIO"
   ]
  },
  {
   "cell_type": "code",
   "execution_count": null,
   "id": "849b1eb1",
   "metadata": {},
   "outputs": [],
   "source": [
    "# flask --app api.py run --port=5000\n",
    "prediction_endpoint = \"http://127.0.0.1:5000/predict\""
   ]
  },
  {
   "cell_type": "code",
   "execution_count": null,
   "id": "2c5a4614",
   "metadata": {},
   "outputs": [],
   "source": [
    "st.title(\"Text Sentiment Predictor\")"
   ]
  },
  {
   "cell_type": "code",
   "execution_count": null,
   "id": "effd7418",
   "metadata": {},
   "outputs": [],
   "source": [
    "uploaded_file = st.file_uploader(\n",
    "    \"Choose a CSV file for bulk prediction - Upload the file and click on Predict\",\n",
    "    type=\"csv\",\n",
    ")"
   ]
  },
  {
   "cell_type": "code",
   "execution_count": null,
   "id": "71bb1b0d",
   "metadata": {},
   "outputs": [],
   "source": [
    "# Text input for sentiment prediction\n",
    "user_input = st.text_input(\"Enter text and click on Predict\", \"\")"
   ]
  },
  {
   "cell_type": "code",
   "execution_count": null,
   "id": "0c55d5be",
   "metadata": {},
   "outputs": [],
   "source": [
    "# Prediction on single sentence\n",
    "if st.button(\"Predict\"):\n",
    "    if uploaded_file is not None:\n",
    "        file = {\"file\": uploaded_file}\n",
    "        response = requests.post(prediction_endpoint, files=file)\n",
    "        response_bytes = BytesIO(response.content)\n",
    "        response_df = pd.read_csv(response_bytes)\n",
    "\n",
    "        st.download_button(\n",
    "            label=\"Download Predictions\",\n",
    "            data=response_bytes,\n",
    "            file_name=\"Predictions.csv\",\n",
    "            key=\"result_download_button\",\n",
    "        )\n",
    "\n",
    "    else:\n",
    "        response = requests.post(prediction_endpoint, data={\"text\": user_input})\n",
    "        response = response.json()\n",
    "        st.write(f\"Predicted sentiment: {response['prediction']}\")"
   ]
  }
 ],
 "metadata": {
  "jupytext": {
   "cell_metadata_filter": "-all",
   "main_language": "python",
   "notebook_metadata_filter": "-all"
  }
 },
 "nbformat": 4,
 "nbformat_minor": 5
}
